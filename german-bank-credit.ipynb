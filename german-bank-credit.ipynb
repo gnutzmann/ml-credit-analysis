{
 "metadata": {
  "language_info": {
   "codemirror_mode": {
    "name": "ipython",
    "version": 3
   },
   "file_extension": ".py",
   "mimetype": "text/x-python",
   "name": "python",
   "nbconvert_exporter": "python",
   "pygments_lexer": "ipython3",
   "version": "3.9.4"
  },
  "orig_nbformat": 2,
  "kernelspec": {
   "name": "python3",
   "display_name": "Python 3",
   "language": "python"
  }
 },
 "nbformat": 4,
 "nbformat_minor": 2,
 "cells": [
  {
   "cell_type": "code",
   "execution_count": 2,
   "metadata": {},
   "outputs": [],
   "source": [
    "# Análise de concessão de crédito utilizando aprendizado de máquina\n",
    "# Aluno: Diogo Gnutzmann Santos\n",
    "# Disciplina: Machine Learning"
   ]
  },
  {
   "cell_type": "code",
   "execution_count": 3,
   "metadata": {},
   "outputs": [],
   "source": [
    "import pandas as pd\n",
    "from sklearn.model_selection import train_test_split\n",
    "from sklearn.preprocessing import LabelEncoder\n",
    "from sklearn.metrics import confusion_matrix, accuracy_score\n",
    "from sklearn.tree import DecisionTreeClassifier\n",
    "from sklearn.ensemble import RandomForestClassifier"
   ]
  },
  {
   "cell_type": "code",
   "execution_count": 4,
   "metadata": {},
   "outputs": [],
   "source": [
    "#Carregando as informações\n",
    "credDF = pd.read_csv('german-bank-credit-data.csv')"
   ]
  },
  {
   "cell_type": "code",
   "execution_count": 5,
   "metadata": {},
   "outputs": [
    {
     "output_type": "execute_result",
     "data": {
      "text/plain": [
       "(1000, 21)"
      ]
     },
     "metadata": {},
     "execution_count": 5
    }
   ],
   "source": [
    "#Analisando quantidade de registro e features.\n",
    "credDF.shape"
   ]
  },
  {
   "cell_type": "code",
   "execution_count": 6,
   "metadata": {},
   "outputs": [
    {
     "output_type": "execute_result",
     "data": {
      "text/plain": [
       "   checking_status  duration                    credit_history  \\\n",
       "0               <0         6  'critical/other existing credit'   \n",
       "1         0<=X<200        48                   'existing paid'   \n",
       "2    'no checking'        12  'critical/other existing credit'   \n",
       "3               <0        42                   'existing paid'   \n",
       "4               <0        24              'delayed previously'   \n",
       "5    'no checking'        36                   'existing paid'   \n",
       "6    'no checking'        24                   'existing paid'   \n",
       "7         0<=X<200        36                   'existing paid'   \n",
       "8    'no checking'        12                   'existing paid'   \n",
       "9         0<=X<200        30  'critical/other existing credit'   \n",
       "10        0<=X<200        12                   'existing paid'   \n",
       "11              <0        48                   'existing paid'   \n",
       "12        0<=X<200        12                   'existing paid'   \n",
       "13              <0        24  'critical/other existing credit'   \n",
       "14              <0        15                   'existing paid'   \n",
       "15              <0        24                   'existing paid'   \n",
       "16   'no checking'        24  'critical/other existing credit'   \n",
       "17              <0        30             'no credits/all paid'   \n",
       "18        0<=X<200        24                   'existing paid'   \n",
       "19   'no checking'        24                   'existing paid'   \n",
       "\n",
       "                purpose  credit_amount      savings_status  employment  \\\n",
       "0              radio/tv           1169  'no known savings'         >=7   \n",
       "1              radio/tv           5951                <100      1<=X<4   \n",
       "2             education           2096                <100      4<=X<7   \n",
       "3   furniture/equipment           7882                <100      4<=X<7   \n",
       "4             'new car'           4870                <100      1<=X<4   \n",
       "5             education           9055  'no known savings'      1<=X<4   \n",
       "6   furniture/equipment           2835         500<=X<1000         >=7   \n",
       "7            'used car'           6948                <100      1<=X<4   \n",
       "8              radio/tv           3059              >=1000      4<=X<7   \n",
       "9             'new car'           5234                <100  unemployed   \n",
       "10            'new car'           1295                <100          <1   \n",
       "11             business           4308                <100          <1   \n",
       "12             radio/tv           1567                <100      1<=X<4   \n",
       "13            'new car'           1199                <100         >=7   \n",
       "14            'new car'           1403                <100      1<=X<4   \n",
       "15             radio/tv           1282          100<=X<500      1<=X<4   \n",
       "16             radio/tv           2424  'no known savings'         >=7   \n",
       "17             business           8072  'no known savings'          <1   \n",
       "18           'used car'          12579                <100         >=7   \n",
       "19             radio/tv           3430         500<=X<1000         >=7   \n",
       "\n",
       "    installment_commitment       personal_status other_parties  ...  \\\n",
       "0                        4         'male single'          none  ...   \n",
       "1                        2  'female div/dep/mar'          none  ...   \n",
       "2                        2         'male single'          none  ...   \n",
       "3                        2         'male single'     guarantor  ...   \n",
       "4                        3         'male single'          none  ...   \n",
       "5                        2         'male single'          none  ...   \n",
       "6                        3         'male single'          none  ...   \n",
       "7                        2         'male single'          none  ...   \n",
       "8                        2        'male div/sep'          none  ...   \n",
       "9                        4        'male mar/wid'          none  ...   \n",
       "10                       3  'female div/dep/mar'          none  ...   \n",
       "11                       3  'female div/dep/mar'          none  ...   \n",
       "12                       1  'female div/dep/mar'          none  ...   \n",
       "13                       4         'male single'          none  ...   \n",
       "14                       2  'female div/dep/mar'          none  ...   \n",
       "15                       4  'female div/dep/mar'          none  ...   \n",
       "16                       4         'male single'          none  ...   \n",
       "17                       2         'male single'          none  ...   \n",
       "18                       4  'female div/dep/mar'          none  ...   \n",
       "19                       3         'male single'          none  ...   \n",
       "\n",
       "     property_magnitude age  other_payment_plans     housing existing_credits  \\\n",
       "0         'real estate'  67                 none         own                2   \n",
       "1         'real estate'  22                 none         own                1   \n",
       "2         'real estate'  49                 none         own                1   \n",
       "3      'life insurance'  45                 none  'for free'                1   \n",
       "4   'no known property'  53                 none  'for free'                2   \n",
       "5   'no known property'  35                 none  'for free'                1   \n",
       "6      'life insurance'  53                 none         own                1   \n",
       "7                   car  35                 none        rent                1   \n",
       "8         'real estate'  61                 none         own                1   \n",
       "9                   car  28                 none         own                2   \n",
       "10                  car  25                 none        rent                1   \n",
       "11     'life insurance'  24                 none        rent                1   \n",
       "12                  car  22                 none         own                1   \n",
       "13                  car  60                 none         own                2   \n",
       "14                  car  28                 none        rent                1   \n",
       "15                  car  32                 none         own                1   \n",
       "16     'life insurance'  53                 none         own                2   \n",
       "17                  car  25                 bank         own                3   \n",
       "18  'no known property'  44                 none  'for free'                1   \n",
       "19                  car  31                 none         own                1   \n",
       "\n",
       "                            job num_dependents  own_telephone foreign_worker  \\\n",
       "0                       skilled              1            yes            yes   \n",
       "1                       skilled              1           none            yes   \n",
       "2          'unskilled resident'              2           none            yes   \n",
       "3                       skilled              2           none            yes   \n",
       "4                       skilled              2           none            yes   \n",
       "5          'unskilled resident'              2            yes            yes   \n",
       "6                       skilled              1           none            yes   \n",
       "7   'high qualif/self emp/mgmt'              1            yes            yes   \n",
       "8          'unskilled resident'              1           none            yes   \n",
       "9   'high qualif/self emp/mgmt'              1           none            yes   \n",
       "10                      skilled              1           none            yes   \n",
       "11                      skilled              1           none            yes   \n",
       "12                      skilled              1            yes            yes   \n",
       "13         'unskilled resident'              1           none            yes   \n",
       "14                      skilled              1           none            yes   \n",
       "15         'unskilled resident'              1           none            yes   \n",
       "16                      skilled              1           none            yes   \n",
       "17                      skilled              1           none            yes   \n",
       "18  'high qualif/self emp/mgmt'              1            yes            yes   \n",
       "19                      skilled              2            yes            yes   \n",
       "\n",
       "   class  \n",
       "0   good  \n",
       "1    bad  \n",
       "2   good  \n",
       "3   good  \n",
       "4    bad  \n",
       "5   good  \n",
       "6   good  \n",
       "7   good  \n",
       "8   good  \n",
       "9    bad  \n",
       "10   bad  \n",
       "11   bad  \n",
       "12  good  \n",
       "13   bad  \n",
       "14  good  \n",
       "15   bad  \n",
       "16  good  \n",
       "17  good  \n",
       "18   bad  \n",
       "19  good  \n",
       "\n",
       "[20 rows x 21 columns]"
      ],
      "text/html": "<div>\n<style scoped>\n    .dataframe tbody tr th:only-of-type {\n        vertical-align: middle;\n    }\n\n    .dataframe tbody tr th {\n        vertical-align: top;\n    }\n\n    .dataframe thead th {\n        text-align: right;\n    }\n</style>\n<table border=\"1\" class=\"dataframe\">\n  <thead>\n    <tr style=\"text-align: right;\">\n      <th></th>\n      <th>checking_status</th>\n      <th>duration</th>\n      <th>credit_history</th>\n      <th>purpose</th>\n      <th>credit_amount</th>\n      <th>savings_status</th>\n      <th>employment</th>\n      <th>installment_commitment</th>\n      <th>personal_status</th>\n      <th>other_parties</th>\n      <th>...</th>\n      <th>property_magnitude</th>\n      <th>age</th>\n      <th>other_payment_plans</th>\n      <th>housing</th>\n      <th>existing_credits</th>\n      <th>job</th>\n      <th>num_dependents</th>\n      <th>own_telephone</th>\n      <th>foreign_worker</th>\n      <th>class</th>\n    </tr>\n  </thead>\n  <tbody>\n    <tr>\n      <th>0</th>\n      <td>&lt;0</td>\n      <td>6</td>\n      <td>'critical/other existing credit'</td>\n      <td>radio/tv</td>\n      <td>1169</td>\n      <td>'no known savings'</td>\n      <td>&gt;=7</td>\n      <td>4</td>\n      <td>'male single'</td>\n      <td>none</td>\n      <td>...</td>\n      <td>'real estate'</td>\n      <td>67</td>\n      <td>none</td>\n      <td>own</td>\n      <td>2</td>\n      <td>skilled</td>\n      <td>1</td>\n      <td>yes</td>\n      <td>yes</td>\n      <td>good</td>\n    </tr>\n    <tr>\n      <th>1</th>\n      <td>0&lt;=X&lt;200</td>\n      <td>48</td>\n      <td>'existing paid'</td>\n      <td>radio/tv</td>\n      <td>5951</td>\n      <td>&lt;100</td>\n      <td>1&lt;=X&lt;4</td>\n      <td>2</td>\n      <td>'female div/dep/mar'</td>\n      <td>none</td>\n      <td>...</td>\n      <td>'real estate'</td>\n      <td>22</td>\n      <td>none</td>\n      <td>own</td>\n      <td>1</td>\n      <td>skilled</td>\n      <td>1</td>\n      <td>none</td>\n      <td>yes</td>\n      <td>bad</td>\n    </tr>\n    <tr>\n      <th>2</th>\n      <td>'no checking'</td>\n      <td>12</td>\n      <td>'critical/other existing credit'</td>\n      <td>education</td>\n      <td>2096</td>\n      <td>&lt;100</td>\n      <td>4&lt;=X&lt;7</td>\n      <td>2</td>\n      <td>'male single'</td>\n      <td>none</td>\n      <td>...</td>\n      <td>'real estate'</td>\n      <td>49</td>\n      <td>none</td>\n      <td>own</td>\n      <td>1</td>\n      <td>'unskilled resident'</td>\n      <td>2</td>\n      <td>none</td>\n      <td>yes</td>\n      <td>good</td>\n    </tr>\n    <tr>\n      <th>3</th>\n      <td>&lt;0</td>\n      <td>42</td>\n      <td>'existing paid'</td>\n      <td>furniture/equipment</td>\n      <td>7882</td>\n      <td>&lt;100</td>\n      <td>4&lt;=X&lt;7</td>\n      <td>2</td>\n      <td>'male single'</td>\n      <td>guarantor</td>\n      <td>...</td>\n      <td>'life insurance'</td>\n      <td>45</td>\n      <td>none</td>\n      <td>'for free'</td>\n      <td>1</td>\n      <td>skilled</td>\n      <td>2</td>\n      <td>none</td>\n      <td>yes</td>\n      <td>good</td>\n    </tr>\n    <tr>\n      <th>4</th>\n      <td>&lt;0</td>\n      <td>24</td>\n      <td>'delayed previously'</td>\n      <td>'new car'</td>\n      <td>4870</td>\n      <td>&lt;100</td>\n      <td>1&lt;=X&lt;4</td>\n      <td>3</td>\n      <td>'male single'</td>\n      <td>none</td>\n      <td>...</td>\n      <td>'no known property'</td>\n      <td>53</td>\n      <td>none</td>\n      <td>'for free'</td>\n      <td>2</td>\n      <td>skilled</td>\n      <td>2</td>\n      <td>none</td>\n      <td>yes</td>\n      <td>bad</td>\n    </tr>\n    <tr>\n      <th>5</th>\n      <td>'no checking'</td>\n      <td>36</td>\n      <td>'existing paid'</td>\n      <td>education</td>\n      <td>9055</td>\n      <td>'no known savings'</td>\n      <td>1&lt;=X&lt;4</td>\n      <td>2</td>\n      <td>'male single'</td>\n      <td>none</td>\n      <td>...</td>\n      <td>'no known property'</td>\n      <td>35</td>\n      <td>none</td>\n      <td>'for free'</td>\n      <td>1</td>\n      <td>'unskilled resident'</td>\n      <td>2</td>\n      <td>yes</td>\n      <td>yes</td>\n      <td>good</td>\n    </tr>\n    <tr>\n      <th>6</th>\n      <td>'no checking'</td>\n      <td>24</td>\n      <td>'existing paid'</td>\n      <td>furniture/equipment</td>\n      <td>2835</td>\n      <td>500&lt;=X&lt;1000</td>\n      <td>&gt;=7</td>\n      <td>3</td>\n      <td>'male single'</td>\n      <td>none</td>\n      <td>...</td>\n      <td>'life insurance'</td>\n      <td>53</td>\n      <td>none</td>\n      <td>own</td>\n      <td>1</td>\n      <td>skilled</td>\n      <td>1</td>\n      <td>none</td>\n      <td>yes</td>\n      <td>good</td>\n    </tr>\n    <tr>\n      <th>7</th>\n      <td>0&lt;=X&lt;200</td>\n      <td>36</td>\n      <td>'existing paid'</td>\n      <td>'used car'</td>\n      <td>6948</td>\n      <td>&lt;100</td>\n      <td>1&lt;=X&lt;4</td>\n      <td>2</td>\n      <td>'male single'</td>\n      <td>none</td>\n      <td>...</td>\n      <td>car</td>\n      <td>35</td>\n      <td>none</td>\n      <td>rent</td>\n      <td>1</td>\n      <td>'high qualif/self emp/mgmt'</td>\n      <td>1</td>\n      <td>yes</td>\n      <td>yes</td>\n      <td>good</td>\n    </tr>\n    <tr>\n      <th>8</th>\n      <td>'no checking'</td>\n      <td>12</td>\n      <td>'existing paid'</td>\n      <td>radio/tv</td>\n      <td>3059</td>\n      <td>&gt;=1000</td>\n      <td>4&lt;=X&lt;7</td>\n      <td>2</td>\n      <td>'male div/sep'</td>\n      <td>none</td>\n      <td>...</td>\n      <td>'real estate'</td>\n      <td>61</td>\n      <td>none</td>\n      <td>own</td>\n      <td>1</td>\n      <td>'unskilled resident'</td>\n      <td>1</td>\n      <td>none</td>\n      <td>yes</td>\n      <td>good</td>\n    </tr>\n    <tr>\n      <th>9</th>\n      <td>0&lt;=X&lt;200</td>\n      <td>30</td>\n      <td>'critical/other existing credit'</td>\n      <td>'new car'</td>\n      <td>5234</td>\n      <td>&lt;100</td>\n      <td>unemployed</td>\n      <td>4</td>\n      <td>'male mar/wid'</td>\n      <td>none</td>\n      <td>...</td>\n      <td>car</td>\n      <td>28</td>\n      <td>none</td>\n      <td>own</td>\n      <td>2</td>\n      <td>'high qualif/self emp/mgmt'</td>\n      <td>1</td>\n      <td>none</td>\n      <td>yes</td>\n      <td>bad</td>\n    </tr>\n    <tr>\n      <th>10</th>\n      <td>0&lt;=X&lt;200</td>\n      <td>12</td>\n      <td>'existing paid'</td>\n      <td>'new car'</td>\n      <td>1295</td>\n      <td>&lt;100</td>\n      <td>&lt;1</td>\n      <td>3</td>\n      <td>'female div/dep/mar'</td>\n      <td>none</td>\n      <td>...</td>\n      <td>car</td>\n      <td>25</td>\n      <td>none</td>\n      <td>rent</td>\n      <td>1</td>\n      <td>skilled</td>\n      <td>1</td>\n      <td>none</td>\n      <td>yes</td>\n      <td>bad</td>\n    </tr>\n    <tr>\n      <th>11</th>\n      <td>&lt;0</td>\n      <td>48</td>\n      <td>'existing paid'</td>\n      <td>business</td>\n      <td>4308</td>\n      <td>&lt;100</td>\n      <td>&lt;1</td>\n      <td>3</td>\n      <td>'female div/dep/mar'</td>\n      <td>none</td>\n      <td>...</td>\n      <td>'life insurance'</td>\n      <td>24</td>\n      <td>none</td>\n      <td>rent</td>\n      <td>1</td>\n      <td>skilled</td>\n      <td>1</td>\n      <td>none</td>\n      <td>yes</td>\n      <td>bad</td>\n    </tr>\n    <tr>\n      <th>12</th>\n      <td>0&lt;=X&lt;200</td>\n      <td>12</td>\n      <td>'existing paid'</td>\n      <td>radio/tv</td>\n      <td>1567</td>\n      <td>&lt;100</td>\n      <td>1&lt;=X&lt;4</td>\n      <td>1</td>\n      <td>'female div/dep/mar'</td>\n      <td>none</td>\n      <td>...</td>\n      <td>car</td>\n      <td>22</td>\n      <td>none</td>\n      <td>own</td>\n      <td>1</td>\n      <td>skilled</td>\n      <td>1</td>\n      <td>yes</td>\n      <td>yes</td>\n      <td>good</td>\n    </tr>\n    <tr>\n      <th>13</th>\n      <td>&lt;0</td>\n      <td>24</td>\n      <td>'critical/other existing credit'</td>\n      <td>'new car'</td>\n      <td>1199</td>\n      <td>&lt;100</td>\n      <td>&gt;=7</td>\n      <td>4</td>\n      <td>'male single'</td>\n      <td>none</td>\n      <td>...</td>\n      <td>car</td>\n      <td>60</td>\n      <td>none</td>\n      <td>own</td>\n      <td>2</td>\n      <td>'unskilled resident'</td>\n      <td>1</td>\n      <td>none</td>\n      <td>yes</td>\n      <td>bad</td>\n    </tr>\n    <tr>\n      <th>14</th>\n      <td>&lt;0</td>\n      <td>15</td>\n      <td>'existing paid'</td>\n      <td>'new car'</td>\n      <td>1403</td>\n      <td>&lt;100</td>\n      <td>1&lt;=X&lt;4</td>\n      <td>2</td>\n      <td>'female div/dep/mar'</td>\n      <td>none</td>\n      <td>...</td>\n      <td>car</td>\n      <td>28</td>\n      <td>none</td>\n      <td>rent</td>\n      <td>1</td>\n      <td>skilled</td>\n      <td>1</td>\n      <td>none</td>\n      <td>yes</td>\n      <td>good</td>\n    </tr>\n    <tr>\n      <th>15</th>\n      <td>&lt;0</td>\n      <td>24</td>\n      <td>'existing paid'</td>\n      <td>radio/tv</td>\n      <td>1282</td>\n      <td>100&lt;=X&lt;500</td>\n      <td>1&lt;=X&lt;4</td>\n      <td>4</td>\n      <td>'female div/dep/mar'</td>\n      <td>none</td>\n      <td>...</td>\n      <td>car</td>\n      <td>32</td>\n      <td>none</td>\n      <td>own</td>\n      <td>1</td>\n      <td>'unskilled resident'</td>\n      <td>1</td>\n      <td>none</td>\n      <td>yes</td>\n      <td>bad</td>\n    </tr>\n    <tr>\n      <th>16</th>\n      <td>'no checking'</td>\n      <td>24</td>\n      <td>'critical/other existing credit'</td>\n      <td>radio/tv</td>\n      <td>2424</td>\n      <td>'no known savings'</td>\n      <td>&gt;=7</td>\n      <td>4</td>\n      <td>'male single'</td>\n      <td>none</td>\n      <td>...</td>\n      <td>'life insurance'</td>\n      <td>53</td>\n      <td>none</td>\n      <td>own</td>\n      <td>2</td>\n      <td>skilled</td>\n      <td>1</td>\n      <td>none</td>\n      <td>yes</td>\n      <td>good</td>\n    </tr>\n    <tr>\n      <th>17</th>\n      <td>&lt;0</td>\n      <td>30</td>\n      <td>'no credits/all paid'</td>\n      <td>business</td>\n      <td>8072</td>\n      <td>'no known savings'</td>\n      <td>&lt;1</td>\n      <td>2</td>\n      <td>'male single'</td>\n      <td>none</td>\n      <td>...</td>\n      <td>car</td>\n      <td>25</td>\n      <td>bank</td>\n      <td>own</td>\n      <td>3</td>\n      <td>skilled</td>\n      <td>1</td>\n      <td>none</td>\n      <td>yes</td>\n      <td>good</td>\n    </tr>\n    <tr>\n      <th>18</th>\n      <td>0&lt;=X&lt;200</td>\n      <td>24</td>\n      <td>'existing paid'</td>\n      <td>'used car'</td>\n      <td>12579</td>\n      <td>&lt;100</td>\n      <td>&gt;=7</td>\n      <td>4</td>\n      <td>'female div/dep/mar'</td>\n      <td>none</td>\n      <td>...</td>\n      <td>'no known property'</td>\n      <td>44</td>\n      <td>none</td>\n      <td>'for free'</td>\n      <td>1</td>\n      <td>'high qualif/self emp/mgmt'</td>\n      <td>1</td>\n      <td>yes</td>\n      <td>yes</td>\n      <td>bad</td>\n    </tr>\n    <tr>\n      <th>19</th>\n      <td>'no checking'</td>\n      <td>24</td>\n      <td>'existing paid'</td>\n      <td>radio/tv</td>\n      <td>3430</td>\n      <td>500&lt;=X&lt;1000</td>\n      <td>&gt;=7</td>\n      <td>3</td>\n      <td>'male single'</td>\n      <td>none</td>\n      <td>...</td>\n      <td>car</td>\n      <td>31</td>\n      <td>none</td>\n      <td>own</td>\n      <td>1</td>\n      <td>skilled</td>\n      <td>2</td>\n      <td>yes</td>\n      <td>yes</td>\n      <td>good</td>\n    </tr>\n  </tbody>\n</table>\n<p>20 rows × 21 columns</p>\n</div>"
     },
     "metadata": {},
     "execution_count": 6
    }
   ],
   "source": [
    "credDF.head(20)"
   ]
  },
  {
   "cell_type": "code",
   "execution_count": 7,
   "metadata": {},
   "outputs": [],
   "source": [
    "#Transformando valores de features para valores numéricos para utilizar nos algoritimos\n",
    "prev = credDF.iloc[:,0:20].values\n",
    "classe = credDF.iloc[:,20].values"
   ]
  },
  {
   "cell_type": "code",
   "execution_count": 8,
   "metadata": {},
   "outputs": [],
   "source": [
    "lblenc = LabelEncoder()\n",
    "prev[:,0] = lblenc.fit_transform(prev[:,0])\n",
    "prev[:,2] = lblenc.fit_transform(prev[:,2])\n",
    "prev[:, 3] = lblenc.fit_transform(prev[:, 3])\n",
    "prev[:, 5] = lblenc.fit_transform(prev[:, 5])\n",
    "prev[:, 6] = lblenc.fit_transform(prev[:, 6])\n",
    "prev[:, 8] = lblenc.fit_transform(prev[:, 8])\n",
    "prev[:, 9] = lblenc.fit_transform(prev[:, 9])\n",
    "prev[:, 11] = lblenc.fit_transform(prev[:, 11])\n",
    "prev[:, 13] = lblenc.fit_transform(prev[:, 13])\n",
    "prev[:, 14] = lblenc.fit_transform(prev[:, 14])\n",
    "prev[:, 16] = lblenc.fit_transform(prev[:, 16])\n",
    "prev[:, 18] = lblenc.fit_transform(prev[:, 18])\n",
    "prev[:, 19] = lblenc.fit_transform(prev[:, 19])"
   ]
  },
  {
   "cell_type": "code",
   "execution_count": 9,
   "metadata": {},
   "outputs": [],
   "source": [
    "#Separando 30% dos dados para utilizar como teste e 70% para treinamento do modelo\n",
    "x_train, x_test, y_train, y_test = train_test_split(prev,classe,test_size = 0.3,random_state = 0)"
   ]
  },
  {
   "cell_type": "code",
   "execution_count": 10,
   "metadata": {},
   "outputs": [
    {
     "output_type": "stream",
     "name": "stdout",
     "text": [
      "[[1 24 1 ... 2 1 1]\n [0 36 3 ... 1 1 1]\n [2 15 1 ... 2 1 1]\n ...\n [0 9 3 ... 1 0 1]\n [1 18 1 ... 1 0 1]\n [1 36 2 ... 2 1 1]]\n"
     ]
    }
   ],
   "source": [
    "print(x_train)"
   ]
  },
  {
   "cell_type": "code",
   "execution_count": 11,
   "metadata": {},
   "outputs": [
    {
     "output_type": "execute_result",
     "data": {
      "text/plain": [
       "DecisionTreeClassifier()"
      ]
     },
     "metadata": {},
     "execution_count": 11
    }
   ],
   "source": [
    "#ÁRVORE DE DECISÃO\n",
    "decTree = DecisionTreeClassifier()\n",
    "decTree.fit(x_train, y_train)"
   ]
  },
  {
   "cell_type": "code",
   "execution_count": 12,
   "metadata": {},
   "outputs": [],
   "source": [
    "resPrevDecTree = decTree.predict(x_test)"
   ]
  },
  {
   "cell_type": "code",
   "execution_count": 13,
   "metadata": {},
   "outputs": [
    {
     "output_type": "stream",
     "name": "stdout",
     "text": [
      "[[ 43  43]\n [ 52 162]]\n"
     ]
    }
   ],
   "source": [
    "# Gerando a matriz de confusão do Decision Tree\n",
    "confArrayDecTree = confusion_matrix(y_test, resPrevDecTree)\n",
    "print(confArrayDecTree)"
   ]
  },
  {
   "cell_type": "code",
   "execution_count": 14,
   "metadata": {},
   "outputs": [
    {
     "output_type": "stream",
     "name": "stdout",
     "text": [
      "Acurácia do Decision Tree: 68.33 %\n"
     ]
    }
   ],
   "source": [
    "#Avaliando a acurácia do modelo\n",
    "decTreeAccScore = accuracy_score(y_test, resPrevDecTree)\n",
    "print('Acurácia do Decision Tree:',round(decTreeAccScore*100,2),'%')"
   ]
  },
  {
   "cell_type": "code",
   "execution_count": 15,
   "metadata": {},
   "outputs": [
    {
     "output_type": "execute_result",
     "data": {
      "text/plain": [
       "RandomForestClassifier()"
      ]
     },
     "metadata": {},
     "execution_count": 15
    }
   ],
   "source": [
    "# RANDOM FOREST\n",
    "rndForest = RandomForestClassifier(n_estimators = 100)\n",
    "rndForest.fit(x_train, y_train)"
   ]
  },
  {
   "cell_type": "code",
   "execution_count": 16,
   "metadata": {},
   "outputs": [],
   "source": [
    "resPrevRndForest = rndForest.predict(x_test)"
   ]
  },
  {
   "cell_type": "code",
   "execution_count": 17,
   "metadata": {},
   "outputs": [
    {
     "output_type": "stream",
     "name": "stdout",
     "text": [
      "[[ 37  49]\n [ 17 197]]\n"
     ]
    }
   ],
   "source": [
    "#Gerando matriz de confusão\n",
    "confArrayRndForest = confusion_matrix(y_test, resPrevRndForest)\n",
    "print(confArrayRndForest)"
   ]
  },
  {
   "cell_type": "code",
   "execution_count": 18,
   "metadata": {},
   "outputs": [
    {
     "output_type": "stream",
     "name": "stdout",
     "text": [
      "Acurácia do Random Forest: 78.0 %\n"
     ]
    }
   ],
   "source": [
    "#Avaliando a acurácia do modelo\n",
    "rndForestAccScore = accuracy_score(y_test, resPrevRndForest)\n",
    "print('Acurácia do Random Forest:',round(rndForestAccScore*100,2),'%')"
   ]
  },
  {
   "cell_type": "code",
   "execution_count": 19,
   "metadata": {},
   "outputs": [
    {
     "output_type": "stream",
     "name": "stdout",
     "text": [
      "Acurácia do Decision Tree: 68.33 %\nAcurácia do Random Forest: 78.0 %\n"
     ]
    }
   ],
   "source": [
    "print('Acurácia do Decision Tree:',round(decTreeAccScore*100,2),'%')\n",
    "print('Acurácia do Random Forest:',round(rndForestAccScore*100,2),'%')"
   ]
  },
  {
   "cell_type": "code",
   "execution_count": 20,
   "metadata": {},
   "outputs": [],
   "source": [
    "##Conclusão: O algoritimo Random Forest é mais preciso que utilizar apenas Decision Tree."
   ]
  }
 ]
}